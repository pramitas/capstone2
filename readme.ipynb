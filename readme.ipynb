{
 "cells": [
  {
   "cell_type": "markdown",
   "metadata": {},
   "source": [
    "A. problem :\n",
    "- Masalah yang ingin diangkat dalam project ini yaitu, banyaknya unit yang listing dalam Airbnb, sehingga masih membuat para calon penyewa kebingungan dalam memilih tipe kamar / unit terbaik yang paling mereka butuhkan dan available dalam Waktu mendatang."
   ]
  },
  {
   "cell_type": "markdown",
   "metadata": {},
   "source": [
    "B. audience : \n",
    "- Perusahaan Airbnb, host Airbnb, user / tenant\n",
    "\n"
   ]
  },
  {
   "cell_type": "markdown",
   "metadata": {},
   "source": [
    "C. audience need to know :\n",
    "- required data : \n",
    "name, host_id, host_name, neighbourhood, latitude, longitude, room_type, price, minimum_nights, number_of_reviews, last_review, reviews_per_month, calculated_host_listings_count, availability_365, number_of_reviews_ltm\n",
    "\n",
    "- metodologi :\n",
    "audience memilih unit listing berdasarkan pertimbangan review terbanyak dan availability dalam setahun kedepan. serta mengetahui range harga di pasaran.\n",
    "\n",
    "- benefit :\n",
    "audience dapat memilih unit listing dengan pilihan terbaik sesuai kebutuhan dengan pertimbangan eview terbanyak dan availability dalam setahun kedepan. serta mengetahui range harga di pasaran."
   ]
  },
  {
   "cell_type": "markdown",
   "metadata": {},
   "source": [
    "D. goals : \n",
    "- Memberikan rekomendasi tipe ruangan dengan review terbanyak yang mengindikasikan banyak disewa, serta menampilkan listings dari tipe ruangan dengan review terbanyak yang memiliki availability terbanyak dalam setahun kedepan "
   ]
  },
  {
   "cell_type": "markdown",
   "metadata": {},
   "source": [
    "E. data set : \n",
    "- https://drive.google.com/drive/folders/1A_KBMRFTS5Mthpp46nulso679ML4ZwTF?usp=sharing"
   ]
  },
  {
   "cell_type": "markdown",
   "metadata": {},
   "source": [
    "F. Action :\n",
    "- Audience perlu menentukan tipe kamar yang dipilih sesuai kebutuhan\n",
    "- Auidence perlu menentukan lokasi berdasarkan latitude dan longitude dari tipe kamar yang dipilih\n",
    "- Audience perlu mempertimbangkan beberapa kondisi seperti review terbanyak dan availability unit dalam setahun kedepan\n"
   ]
  }
 ],
 "metadata": {
  "language_info": {
   "name": "python"
  }
 },
 "nbformat": 4,
 "nbformat_minor": 2
}
